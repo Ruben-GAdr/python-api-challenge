{
 "cells": [
  {
   "cell_type": "markdown",
   "metadata": {},
   "source": [
    "# WeatherPy\n",
    "\n",
    "---\n",
    "\n",
    "## Starter Code to Generate Random Geographic Coordinates and a List of Cities"
   ]
  },
  {
   "cell_type": "code",
   "execution_count": 1,
   "metadata": {
    "scrolled": true,
    "tags": []
   },
   "outputs": [],
   "source": [
    "# Dependencies and Setup\n",
    "import matplotlib.pyplot as plt\n",
    "import pandas as pd\n",
    "import numpy as np\n",
    "import requests\n",
    "import time\n",
    "from scipy.stats import linregress\n",
    "\n",
    "# Impor the OpenWeatherMap API key\n",
    "from api_keys import weather_api_key\n",
    "\n",
    "# Import citipy to determine the cities based on latitude and longitude\n",
    "from citipy import citipy"
   ]
  },
  {
   "cell_type": "markdown",
   "metadata": {},
   "source": [
    "### Generate the Cities List by Using the `citipy` Library"
   ]
  },
  {
   "cell_type": "code",
   "execution_count": 2,
   "metadata": {
    "tags": []
   },
   "outputs": [
    {
     "name": "stdout",
     "output_type": "stream",
     "text": [
      "Number of cities in the list: 594\n"
     ]
    }
   ],
   "source": [
    "# Empty list for holding the latitude and longitude combinations\n",
    "lat_lngs = []\n",
    "\n",
    "# Empty list for holding the cities names\n",
    "cities = []\n",
    "\n",
    "# Range of latitudes and longitudes\n",
    "lat_range = (-90, 90)\n",
    "lng_range = (-180, 180)\n",
    "\n",
    "# Create a set of random lat and lng combinations\n",
    "lats = np.random.uniform(lat_range[0], lat_range[1], size=1500)\n",
    "lngs = np.random.uniform(lng_range[0], lng_range[1], size=1500)\n",
    "lat_lngs = zip(lats, lngs)\n",
    "\n",
    "# Identify nearest city for each lat, lng combination\n",
    "for lat_lng in lat_lngs:\n",
    "    city = citipy.nearest_city(lat_lng[0], lat_lng[1]).city_name\n",
    "\n",
    "    # If the city is unique, then add it to a our cities list\n",
    "    if city not in cities:\n",
    "        cities.append(city)\n",
    "\n",
    "# Print the city count to confirm sufficient count\n",
    "print(f\"Number of cities in the list: {len(cities)}\")"
   ]
  },
  {
   "cell_type": "markdown",
   "metadata": {},
   "source": [
    "---"
   ]
  },
  {
   "cell_type": "markdown",
   "metadata": {},
   "source": [
    "## Requirement 1: Create Plots to Showcase the Relationship Between Weather Variables and Latitude\n",
    "\n",
    "### Use the OpenWeatherMap API to retrieve weather data from the cities list generated in the started code"
   ]
  },
  {
   "cell_type": "code",
   "execution_count": null,
   "metadata": {
    "tags": []
   },
   "outputs": [
    {
     "name": "stdout",
     "output_type": "stream",
     "text": [
      "Beginning Data Retrieval     \n",
      "-----------------------------\n",
      "Processing Record 1 of Set 1 | longyearbyen\n",
      "Processing Record 2 of Set 1 | novoarkhanhel's'k\n",
      "Processing Record 3 of Set 1 | puerto natales\n",
      "Processing Record 4 of Set 1 | cabo san lucas\n",
      "Processing Record 5 of Set 1 | port mathurin\n",
      "Processing Record 6 of Set 1 | isafjordur\n",
      "Processing Record 7 of Set 1 | nadym\n",
      "Processing Record 8 of Set 1 | adamstown\n",
      "Processing Record 9 of Set 1 | yellowknife\n",
      "Processing Record 10 of Set 1 | anadyr\n",
      "Processing Record 11 of Set 1 | tazacorte\n",
      "Processing Record 12 of Set 1 | tangalle\n",
      "Processing Record 13 of Set 1 | waitangi\n",
      "Processing Record 14 of Set 1 | bethel\n",
      "Processing Record 15 of Set 1 | acarau\n",
      "Processing Record 16 of Set 1 | grytviken\n",
      "Processing Record 17 of Set 1 | kailua-kona\n",
      "Processing Record 18 of Set 1 | krasnoslobodsk\n",
      "Processing Record 19 of Set 1 | uturoa\n",
      "Processing Record 20 of Set 1 | holtville\n",
      "Processing Record 21 of Set 1 | talnakh\n",
      "Processing Record 22 of Set 1 | klyuchi\n",
      "Processing Record 23 of Set 1 | thompson\n",
      "Processing Record 24 of Set 1 | port alfred\n",
      "Processing Record 25 of Set 1 | edinburgh of the seven seas\n",
      "Processing Record 26 of Set 1 | damara\n",
      "Processing Record 27 of Set 1 | west island\n",
      "Processing Record 28 of Set 1 | port-aux-francais\n",
      "Processing Record 29 of Set 1 | invercargill\n",
      "Processing Record 30 of Set 1 | al kharijah\n",
      "Processing Record 31 of Set 1 | iskateley\n",
      "Processing Record 32 of Set 1 | morehead\n",
      "Processing Record 33 of Set 1 | fisterra\n",
      "Processing Record 34 of Set 1 | nemuro\n",
      "Processing Record 35 of Set 1 | orcopampa\n",
      "Processing Record 36 of Set 1 | cedeira\n",
      "Processing Record 37 of Set 1 | sao raimundo das mangabeiras\n",
      "Processing Record 38 of Set 1 | tazovsky\n",
      "Processing Record 39 of Set 1 | christchurch\n",
      "Processing Record 40 of Set 1 | nishinoomote\n",
      "Processing Record 41 of Set 1 | dryden\n",
      "Processing Record 42 of Set 1 | aswan\n",
      "Processing Record 43 of Set 1 | puerto ayora\n",
      "Processing Record 44 of Set 1 | saint-joseph\n",
      "Processing Record 45 of Set 1 | la foa\n",
      "Processing Record 46 of Set 1 | hithadhoo\n",
      "Processing Record 47 of Set 1 | berberati\n",
      "Processing Record 48 of Set 1 | luderitz\n",
      "Processing Record 49 of Set 1 | blackmans bay\n",
      "Processing Record 50 of Set 1 | kununurra\n",
      "Processing Record 0 of Set 2 | afaahiti\n",
      "Processing Record 1 of Set 2 | glace bay\n",
      "Processing Record 2 of Set 2 | nar'yan-mar\n",
      "Processing Record 3 of Set 2 | 'ohonua\n",
      "City not found. Skipping...\n",
      "Processing Record 4 of Set 2 | frutal\n",
      "Processing Record 5 of Set 2 | pandan\n",
      "Processing Record 6 of Set 2 | utrik\n",
      "Processing Record 7 of Set 2 | shahrak\n",
      "Processing Record 8 of Set 2 | tanrake village\n",
      "City not found. Skipping...\n",
      "Processing Record 9 of Set 2 | alofi\n",
      "Processing Record 10 of Set 2 | vila velha\n",
      "Processing Record 11 of Set 2 | bilibino\n",
      "Processing Record 12 of Set 2 | great falls\n",
      "Processing Record 13 of Set 2 | iqaluit\n",
      "Processing Record 14 of Set 2 | port douglas\n",
      "Processing Record 15 of Set 2 | whitehorse\n",
      "Processing Record 16 of Set 2 | albany\n",
      "Processing Record 17 of Set 2 | debica\n",
      "Processing Record 18 of Set 2 | grand forks\n",
      "Processing Record 19 of Set 2 | ancud\n",
      "Processing Record 20 of Set 2 | ketchikan\n",
      "Processing Record 21 of Set 2 | mount gambier\n",
      "Processing Record 22 of Set 2 | beledweyne\n",
      "Processing Record 23 of Set 2 | puerto san carlos\n",
      "City not found. Skipping...\n",
      "Processing Record 24 of Set 2 | east london\n",
      "Processing Record 25 of Set 2 | veinticinco de mayo\n",
      "Processing Record 26 of Set 2 | nagaur\n",
      "Processing Record 27 of Set 2 | vorgashor\n",
      "Processing Record 28 of Set 2 | lerwick\n",
      "Processing Record 29 of Set 2 | mar del plata\n",
      "Processing Record 30 of Set 2 | hazard\n",
      "Processing Record 31 of Set 2 | itoman\n",
      "Processing Record 32 of Set 2 | jincheng\n"
     ]
    }
   ],
   "source": [
    "# Set the API base URL\n",
    "url = f\"https://api.openweathermap.org/data/2.5/weather?q={city}&appid={weather_api_key}\"\n",
    "\n",
    "# Define an empty list to fetch the weather data for each city\n",
    "city_data = []\n",
    "\n",
    "# Print to logger\n",
    "print(\"Beginning Data Retrieval     \")\n",
    "print(\"-----------------------------\")\n",
    "\n",
    "# Create counters\n",
    "record_count = 1\n",
    "set_count = 1\n",
    "\n",
    "# Loop through all the cities in our list to fetch weather data\n",
    "for i, city in enumerate(cities):\n",
    "\n",
    "    # Group cities in sets of 50 for logging purposes\n",
    "    if (i % 50 == 0 and i >= 50):\n",
    "        set_count += 1\n",
    "        record_count = 0\n",
    "\n",
    "    # Create endpoint URL with each city\n",
    "    city_url = f\"https://api.openweathermap.org/data/2.5/weather?q={city}&appid={weather_api_key}&units=metric\"\n",
    "\n",
    "    # Log the url, record, and set numbers\n",
    "    print(\"Processing Record %s of Set %s | %s\" % (record_count, set_count, city))\n",
    "\n",
    "    # Add 1 to the record count\n",
    "    record_count += 1\n",
    "\n",
    "    # Run an API request for each of the cities\n",
    "    try:\n",
    "        # Parse the JSON and retrieve data\n",
    "        city_weather = requests.get(city_url).json()\n",
    "\n",
    "        # Parse out latitude, longitude, max temp, humidity, cloudiness, wind speed, country, and date\n",
    "        city_lat = city_weather[\"coord\"][\"lat\"]\n",
    "        city_lng = city_weather[\"coord\"][\"lon\"]\n",
    "        city_max_temp = city_weather[\"main\"][\"temp_max\"]\n",
    "        city_humidity = city_weather[\"main\"][\"humidity\"]\n",
    "        city_clouds = city_weather[\"clouds\"][\"all\"]\n",
    "        city_wind = city_weather[\"wind\"][\"speed\"]\n",
    "        city_country = city_weather[\"sys\"][\"country\"]\n",
    "        city_date = city_weather[\"dt\"]\n",
    "\n",
    "        # Append the City information into city_data list\n",
    "        city_data.append({\"City\": city,\n",
    "                          \"Lat\": city_lat,\n",
    "                          \"Lng\": city_lng,\n",
    "                          \"Max Temp\": city_max_temp,\n",
    "                          \"Humidity\": city_humidity,\n",
    "                          \"Cloudiness\": city_clouds,\n",
    "                          \"Wind Speed\": city_wind,\n",
    "                          \"Country\": city_country,\n",
    "                          \"Date\": city_date})\n",
    "\n",
    "    # If an error is experienced, skip the city\n",
    "    except:\n",
    "        print(\"City not found. Skipping...\")\n",
    "        pass\n",
    "\n",
    "    # pause to avoid rate limiting\n",
    "    time.sleep(1)\n",
    "\n",
    "# Indicate that Data Loading is complete\n",
    "print(\"-----------------------------\")\n",
    "print(\"Data Retrieval Complete      \")\n",
    "print(\"-----------------------------\")"
   ]
  },
  {
   "cell_type": "code",
   "execution_count": null,
   "metadata": {
    "tags": []
   },
   "outputs": [],
   "source": [
    "# Convert the cities weather data into a Pandas DataFrame\n",
    "city_data_df = pd.DataFrame(city_data)\n",
    "# Show Record Count\n",
    "city_data_df.count()"
   ]
  },
  {
   "cell_type": "code",
   "execution_count": null,
   "metadata": {},
   "outputs": [],
   "source": [
    "# Display sample data\n",
    "city_data_df.head()"
   ]
  },
  {
   "cell_type": "code",
   "execution_count": null,
   "metadata": {},
   "outputs": [],
   "source": [
    "# Export the City_Data into a csv\n",
    "city_data_df.to_csv(\"output_data/cities.csv\", index_label=\"City_ID\")"
   ]
  },
  {
   "cell_type": "code",
   "execution_count": null,
   "metadata": {},
   "outputs": [],
   "source": [
    "# Read saved data\n",
    "city_data_df = pd.read_csv(\"output_data/cities.csv\", index_col=\"City_ID\")\n",
    "\n",
    "# Display sample data\n",
    "city_data_df.head()"
   ]
  },
  {
   "cell_type": "markdown",
   "metadata": {},
   "source": [
    "### Create the Scatter Plots Requested\n",
    "\n",
    "#### Latitude Vs. Temperature"
   ]
  },
  {
   "cell_type": "code",
   "execution_count": null,
   "metadata": {
    "tags": []
   },
   "outputs": [],
   "source": [
    "# Build scatter plot for latitude vs. temperature\n",
    "plt.scatter(city_data_df[\"Lat\"], city_data_df[\"Max Temp\"], edgecolor=\"black\", linewidths=1, marker=\"o\", alpha=0.8)\n",
    "\n",
    "# Incorporate the other graph properties\n",
    "plt.title(\"City Max Latitude vs. Temperature (2024-06-17)\")\n",
    "plt.xlabel(\"Latitude\")\n",
    "plt.ylabel(\"Max Temperature (C)\")\n",
    "plt.grid(True)\n",
    "\n",
    "# Save the figure\n",
    "plt.savefig(\"output_data/Fig1.png\")\n",
    "\n",
    "# Show plot\n",
    "plt.show()"
   ]
  },
  {
   "cell_type": "markdown",
   "metadata": {},
   "source": [
    "#### Latitude Vs. Humidity"
   ]
  },
  {
   "cell_type": "code",
   "execution_count": null,
   "metadata": {},
   "outputs": [],
   "source": [
    "# Build the scatter plots for latitude vs. humidity\n",
    "plt.scatter(city_data_df[\"Lat\"], city_data_df[\"Humidity\"], edgecolor=\"black\", linewidths=1, marker=\"o\", alpha=0.8)\n",
    "\n",
    "# Incorporate the other graph properties\n",
    "plt.title(\"City Latitude vs. Humidity (2024-06-17)\")\n",
    "plt.xlabel(\"Latitude\")\n",
    "plt.ylabel(\"Humidity (%)\")\n",
    "plt.grid(True)\n",
    "\n",
    "# Save the figure\n",
    "plt.savefig(\"output_data/Fig2.png\")\n",
    "\n",
    "# Show plot\n",
    "plt.show()"
   ]
  },
  {
   "cell_type": "markdown",
   "metadata": {},
   "source": [
    "#### Latitude Vs. Cloudiness"
   ]
  },
  {
   "cell_type": "code",
   "execution_count": null,
   "metadata": {},
   "outputs": [],
   "source": [
    "# Build the scatter plots for latitude vs. cloudiness\n",
    "plt.scatter(city_data_df[\"Lat\"], city_data_df[\"Cloudiness\"], edgecolor=\"black\", linewidths=1, marker=\"o\", alpha=0.8)\n",
    "\n",
    "\n",
    "# Incorporate the other graph properties\n",
    "plt.title(\"City Latitude vs. Cloudiness (2024-06-17)\")\n",
    "plt.xlabel(\"Latitude\")\n",
    "plt.ylabel(\"Cloudiness (%)\")\n",
    "plt.grid(True)\n",
    "\n",
    "# Save the figure\n",
    "plt.savefig(\"output_data/Fig3.png\")\n",
    "\n",
    "# Show plot\n",
    "plt.show()"
   ]
  },
  {
   "cell_type": "markdown",
   "metadata": {},
   "source": [
    "#### Latitude vs. Wind Speed Plot"
   ]
  },
  {
   "cell_type": "code",
   "execution_count": null,
   "metadata": {},
   "outputs": [],
   "source": [
    "# Build the scatter plots for latitude vs. wind speed\n",
    "plt.scatter(city_data_df[\"Lat\"], city_data_df[\"Wind Speed\"], edgecolor=\"black\", linewidths=1, marker=\"o\", alpha=0.8)\n",
    "\n",
    "\n",
    "# Incorporate the other graph properties\n",
    "plt.title(\"City Latitude vs. Wind Speed (2024-06-17)\")\n",
    "plt.xlabel(\"Latitude\")\n",
    "plt.ylabel(\"Wind Speed (m/s)\")\n",
    "plt.grid(True)\n",
    "\n",
    "# Save the figure\n",
    "plt.savefig(\"output_data/Fig4.png\")\n",
    "\n",
    "# Show plot\n",
    "plt.show()"
   ]
  },
  {
   "cell_type": "markdown",
   "metadata": {},
   "source": [
    "---\n",
    "\n",
    "## Requirement 2: Compute Linear Regression for Each Relationship\n"
   ]
  },
  {
   "cell_type": "code",
   "execution_count": null,
   "metadata": {},
   "outputs": [],
   "source": [
    "# Define a function to create Linear Regression plots\n",
    "def create_linear_regression_plot(x, y, x_label, y_label, title, output_file):\n",
    "    \"\"\"\n",
    "    Creates a scatter plot with a linear regression line.\n",
    "\n",
    "    Parameters:\n",
    "    x (pd.Series): The data for the x-axis.\n",
    "    y (pd.Series): The data for the y-axis.\n",
    "    x_label (str): The label for the x-axis.\n",
    "    y_label (str): The label for the y-axis.\n",
    "    title (str): The title of the plot.\n",
    "    output_file (str): The file path to save the plot.\n",
    "\n",
    "    Returns:\n",
    "    None\n",
    "    \"\"\"\n",
    "    # Perform linear regression\n",
    "    slope, intercept, r_value, p_value, std_err = linregress(x, y)\n",
    "\n",
    "    # Create scatter plot\n",
    "    plt.scatter(x, y, edgecolor=\"black\", linewidths=1, marker=\"o\", alpha=0.8, label=\"Data Points\")\n",
    "\n",
    "    # Plot the linear regression line\n",
    "    plt.plot(x, slope * x + intercept, color=\"red\", linewidth=2, label=\"Fit Line\")\n",
    "\n",
    "    # Add labels and title\n",
    "    plt.xlabel(x_label)\n",
    "    plt.ylabel(y_label)\n",
    "    plt.title(title)\n",
    "    plt.legend()\n",
    "    plt.grid(True)\n",
    "\n",
    "    # Save the figure\n",
    "    plt.savefig(output_file)\n",
    "\n",
    "    # Show plot\n",
    "    plt.show()"
   ]
  },
  {
   "cell_type": "code",
   "execution_count": null,
   "metadata": {},
   "outputs": [],
   "source": [
    "# Create a DataFrame with the Northern Hemisphere data (Latitude >= 0)\n",
    "# YOUR CODE HERE\n",
    "\n",
    "# Display sample data\n",
    "northern_hemi_df.head()"
   ]
  },
  {
   "cell_type": "code",
   "execution_count": null,
   "metadata": {},
   "outputs": [],
   "source": [
    "# Create a DataFrame with the Southern Hemisphere data (Latitude < 0)\n",
    "# YOUR CODE HERE\n",
    "\n",
    "# Display sample data\n",
    "southern_hemi_df.head()"
   ]
  },
  {
   "cell_type": "markdown",
   "metadata": {},
   "source": [
    "###  Temperature vs. Latitude Linear Regression Plot"
   ]
  },
  {
   "cell_type": "code",
   "execution_count": null,
   "metadata": {},
   "outputs": [],
   "source": [
    "# Linear regression on Northern Hemisphere\n",
    "# Filter the data for the Northern Hemisphere\n",
    "northern_hemisphere_df = city_data_df[city_data_df[\"Lat\"] >= 0]\n",
    "\n",
    "# Create the linear regression plot for Northern Hemisphere: Temperature vs. Latitude\n",
    "create_linear_regression_plot(\n",
    "    northern_hemisphere_df[\"Lat\"], \n",
    "    northern_hemisphere_df[\"Max Temp\"], \n",
    "    \"Latitude\", \n",
    "    \"Max Temp\", \n",
    "    \"Latitude vs. Max Temperature\", \n",
    "    \"output_data/Northern_Hemisphere_Temperature.png\"\n",
    ")"
   ]
  },
  {
   "cell_type": "code",
   "execution_count": null,
   "metadata": {},
   "outputs": [],
   "source": [
    "# Linear regression on Southern Hemisphere\n",
    "# Filter the data for the Southern Hemisphere\n",
    "southern_hemisphere_df = city_data_df[city_data_df[\"Lat\"] < 0]\n",
    "\n",
    "# Create the linear regression plot for Southern Hemisphere: Latitude vs. Max Temperature\n",
    "create_linear_regression_plot(\n",
    "    southern_hemisphere_df[\"Lat\"], \n",
    "    southern_hemisphere_df[\"Max Temp\"], \n",
    "    \"Latitude\", \n",
    "    \"Max Temp\", \n",
    "    \"Latitude vs. Max Temp\", \n",
    "    \"output_data/Southern_Hemisphere_Temperature.png\"\n",
    ")\n"
   ]
  },
  {
   "cell_type": "markdown",
   "metadata": {},
   "source": [
    "**Discussion about the linear relationship:** YOUR RESPONSE HERE"
   ]
  },
  {
   "cell_type": "markdown",
   "metadata": {},
   "source": [
    "### Humidity vs. Latitude Linear Regression Plot"
   ]
  },
  {
   "cell_type": "code",
   "execution_count": null,
   "metadata": {},
   "outputs": [],
   "source": [
    "# Northern Hemisphere\n",
    "# Filtrar los datos para el hemisferio norte\n",
    "northern_hemisphere_df = city_data_df[city_data_df[\"Lat\"] >= 0]\n",
    "\n",
    "# Realizar la regresión lineal para Humidity vs. Latitude en el hemisferio norte\n",
    "create_linear_regression_plot(\n",
    "    northern_hemisphere_df[\"Lat\"], \n",
    "    northern_hemisphere_df[\"Humidity\"], \n",
    "    \"Latitude\", \n",
    "    \"Humidity (%)\", \n",
    "    \"Northern Hemisphere: Latitude vs. Humidity\", \n",
    "    \"output_data/Northern_Hemisphere_Humidity.png\"\n",
    ")\n"
   ]
  },
  {
   "cell_type": "code",
   "execution_count": null,
   "metadata": {},
   "outputs": [],
   "source": [
    "# Southern Hemisphere\n",
    "# Filtrar los datos para el hemisferio sur\n",
    "southern_hemisphere_df = city_data_df[city_data_df[\"Lat\"] < 0]\n",
    "\n",
    "# Realizar la regresión lineal para Humidity vs. Latitude en el hemisferio sur\n",
    "create_linear_regression_plot(\n",
    "    southern_hemisphere_df[\"Lat\"], \n",
    "    southern_hemisphere_df[\"Humidity\"], \n",
    "    \"Latitude\", \n",
    "    \"Humidity (%)\", \n",
    "    \"Southern Hemisphere: Latitude vs. Humidity\", \n",
    "    \"output_data/Southern_Hemisphere_Humidity.png\"\n",
    ")\n"
   ]
  },
  {
   "cell_type": "markdown",
   "metadata": {},
   "source": [
    "**Discussion about the linear relationship:** YOUR RESPONSE HERE"
   ]
  },
  {
   "cell_type": "markdown",
   "metadata": {},
   "source": [
    "### Cloudiness vs. Latitude Linear Regression Plot"
   ]
  },
  {
   "cell_type": "code",
   "execution_count": null,
   "metadata": {},
   "outputs": [],
   "source": [
    "# Northern Hemisphere\n",
    "# Filtrar los datos para el hemisferio norte\n",
    "northern_hemisphere_df = city_data_df[city_data_df[\"Lat\"] >= 0]\n",
    "\n",
    "# Realizar la regresión lineal para Cloudiness vs. Latitude en el hemisferio norte\n",
    "create_linear_regression_plot(\n",
    "    northern_hemisphere_df[\"Lat\"], \n",
    "    northern_hemisphere_df[\"Cloudiness\"], \n",
    "    \"Latitude\", \n",
    "    \"Cloudiness (%)\", \n",
    "    \"Northern Hemisphere: Latitude vs. Cloudiness\", \n",
    "    \"output_data/Northern_Hemisphere_Cloudiness.png\"\n",
    ")"
   ]
  },
  {
   "cell_type": "code",
   "execution_count": null,
   "metadata": {},
   "outputs": [],
   "source": [
    "# Southern Hemisphere\n",
    "# Filtrar los datos para el hemisferio sur\n",
    "southern_hemisphere_df = city_data_df[city_data_df[\"Lat\"] < 0]\n",
    "\n",
    "# Realizar la regresión lineal para Cloudiness vs. Latitude en el hemisferio sur\n",
    "create_linear_regression_plot(\n",
    "    southern_hemisphere_df[\"Lat\"], \n",
    "    southern_hemisphere_df[\"Cloudiness\"], \n",
    "    \"Latitude\", \n",
    "    \"Cloudiness (%)\", \n",
    "    \"Southern Hemisphere: Latitude vs. Cloudiness\", \n",
    "    \"output_data/Southern_Hemisphere_Cloudiness.png\"\n",
    ")\n"
   ]
  },
  {
   "cell_type": "markdown",
   "metadata": {},
   "source": [
    "**Discussion about the linear relationship:** YOUR RESPONSE HERE"
   ]
  },
  {
   "cell_type": "markdown",
   "metadata": {},
   "source": [
    "### Wind Speed vs. Latitude Linear Regression Plot"
   ]
  },
  {
   "cell_type": "code",
   "execution_count": null,
   "metadata": {},
   "outputs": [],
   "source": [
    "# Northern Hemisphere\n",
    "# Filtrar los datos para el hemisferio norte\n",
    "northern_hemisphere_df = city_data_df[city_data_df[\"Lat\"] >= 0]\n",
    "\n",
    "# Realizar la regresión lineal para Wind Speed vs. Latitude en el hemisferio norte\n",
    "create_linear_regression_plot(\n",
    "    northern_hemisphere_df[\"Lat\"], \n",
    "    northern_hemisphere_df[\"Wind Speed\"], \n",
    "    \"Latitude\", \n",
    "    \"Wind Speed (mph)\", \n",
    "    \"Northern Hemisphere: Latitude vs. Wind Speed\", \n",
    "    \"output_data/Northern_Hemisphere_Wind_Speed.png\"\n",
    ")\n"
   ]
  },
  {
   "cell_type": "code",
   "execution_count": null,
   "metadata": {},
   "outputs": [],
   "source": [
    "# Southern Hemisphere\n",
    "# Filtrar los datos para el hemisferio sur\n",
    "southern_hemisphere_df = city_data_df[city_data_df[\"Lat\"] < 0]\n",
    "\n",
    "# Realizar la regresión lineal para Wind Speed vs. Latitude en el hemisferio sur\n",
    "create_linear_regression_plot(\n",
    "    southern_hemisphere_df[\"Lat\"], \n",
    "    southern_hemisphere_df[\"Wind Speed\"], \n",
    "    \"Latitude\", \n",
    "    \"Wind Speed (mph)\", \n",
    "    \"Southern Hemisphere: Latitude vs. Wind Speed\", \n",
    "    \"output_data/Southern_Hemisphere_Wind_Speed.png\"\n",
    ")\n"
   ]
  },
  {
   "cell_type": "markdown",
   "metadata": {},
   "source": [
    "**Discussion about the linear relationship:** YOUR RESPONSE HERE"
   ]
  },
  {
   "cell_type": "code",
   "execution_count": null,
   "metadata": {},
   "outputs": [],
   "source": []
  }
 ],
 "metadata": {
  "anaconda-cloud": {},
  "kernel_info": {
   "name": "python3"
  },
  "kernelspec": {
   "display_name": "Python 3",
   "language": "python",
   "name": "python3"
  },
  "language_info": {
   "codemirror_mode": {
    "name": "ipython",
    "version": 3
   },
   "file_extension": ".py",
   "mimetype": "text/x-python",
   "name": "python",
   "nbconvert_exporter": "python",
   "pygments_lexer": "ipython3",
   "version": "3.8.8"
  },
  "latex_envs": {
   "LaTeX_envs_menu_present": true,
   "autoclose": false,
   "autocomplete": true,
   "bibliofile": "biblio.bib",
   "cite_by": "apalike",
   "current_citInitial": 1,
   "eqLabelWithNumbers": true,
   "eqNumInitial": 1,
   "hotkeys": {
    "equation": "Ctrl-E",
    "itemize": "Ctrl-I"
   },
   "labels_anchors": false,
   "latex_user_defs": false,
   "report_style_numbering": false,
   "user_envs_cfg": false
  },
  "nteract": {
   "version": "0.12.3"
  }
 },
 "nbformat": 4,
 "nbformat_minor": 4
}
